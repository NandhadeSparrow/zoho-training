{
 "cells": [
  {
   "cell_type": "markdown",
   "metadata": {},
   "source": [
    "1. Remove Nth Node From End of List\n",
    "Problem Statement:\n",
    "Given the head of a linked list, remove the nth node from the end of the list and return its head.\n",
    "Input Description:\n",
    "- head: The head of a singly linked list.\n",
    "- n: An integer representing the position from the end of the list.\n",
    "Output Description:\n",
    "- The head of the modified linked list.\n",
    "Constraints:\n",
    "- The number of nodes in the list is sz.\n",
    "- 1 <= sz <= 30\n",
    "- 0 <= Node.val <= 100\n",
    "- 1 <= n <= sz\n",
    "Example 1:\n",
    "Input: head = [1,2,3,4,5], n = 2\n",
    "Output: [1,2,3,5]\n",
    "Explanation: The second node from the end is 4, so we remove it.\n",
    "Example 2:\n",
    "Input: head = [1], n = 1\n",
    "Output: []\n",
    "Explanation: The first node from the end is 1, so we remove it.\n",
    "Example 3:\n",
    "Input: head = [1,2], n = 1\n",
    "Output: [1]\n",
    "Explanation: The second node from the end is 2, so we remove it."
   ]
  },
  {
   "cell_type": "code",
   "execution_count": null,
   "metadata": {},
   "outputs": [],
   "source": [
    "class Solution:\n",
    "    def removeNthFromEnd(self, head: Optional[ListNode], n: int) -> Optional[ListNode]:\n",
    "        res = ListNode(0, head)\n",
    "        dummy = res\n",
    "\n",
    "        for _ in range(n):\n",
    "            head = head.next\n",
    "        \n",
    "        while head:\n",
    "            head = head.next\n",
    "            dummy = dummy.next\n",
    "        \n",
    "        dummy.next = dummy.next.next\n",
    "\n",
    "        return res.next"
   ]
  }
 ],
 "metadata": {
  "language_info": {
   "name": "python"
  }
 },
 "nbformat": 4,
 "nbformat_minor": 2
}
