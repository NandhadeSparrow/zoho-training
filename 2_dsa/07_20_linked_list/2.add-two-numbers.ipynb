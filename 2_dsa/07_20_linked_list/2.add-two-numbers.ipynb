{
 "cells": [
  {
   "cell_type": "markdown",
   "metadata": {},
   "source": [
    "5. Add Two Numbers\n",
    "Problem Statement:\n",
    "You are given two non-empty linked lists representing two non-negative integers. The digits are\n",
    "stored in reverse order, and each of their nodes contains a single digit. Add the two numbers\n",
    "and return the sum as a linked list.\n",
    "Input Description:\n",
    "- l1: The head of the first linked list.\n",
    "- l2: The head of the second linked list.\n",
    "Output Description:\n",
    "- The head of the linked list representing the sum of the two numbers.\n",
    "Constraints:\n",
    "- The number of nodes in each linked list is sz.\n",
    "- 1 <= sz <= 100\n",
    "- 0 <= Node.val <= 9\n",
    "- It is guaranteed that the list represents a number that does not have leading zeros.\n",
    "Example 1:\n",
    "Input: l1 = [2,4,3], l2 = [5,6,4]\n",
    "Output: [7,0,8]\n",
    "Explanation: 342 + 465 = 807.\n",
    "Example 2:\n",
    "Input: l1 = [0], l2 = [0]\n",
    "Output: [0]\n",
    "Example 3:\n",
    "Input: l1 = [9,9,9,9,9,9,9], l2 = [9,9,9,9]\n",
    "Output: [8,9,9,9,0,0,0,1]"
   ]
  },
  {
   "cell_type": "code",
   "execution_count": null,
   "metadata": {},
   "outputs": [],
   "source": [
    "class Solution:\n",
    "    def addTwoNumbers(self, l1: ListNode, l2: ListNode) -> ListNode:\n",
    "        dummyHead = ListNode(0)\n",
    "        tail = dummyHead\n",
    "        carry = 0\n",
    "\n",
    "        while l1 is not None or l2 is not None or carry != 0:\n",
    "            digit1 = l1.val if l1 is not None else 0\n",
    "            digit2 = l2.val if l2 is not None else 0\n",
    "\n",
    "            sum = digit1 + digit2 + carry\n",
    "            digit = sum % 10\n",
    "            carry = sum // 10\n",
    "\n",
    "            newNode = ListNode(digit)\n",
    "            tail.next = newNode\n",
    "            tail = tail.next\n",
    "\n",
    "            l1 = l1.next if l1 is not None else None\n",
    "            l2 = l2.next if l2 is not None else None\n",
    "\n",
    "        result = dummyHead.next\n",
    "        dummyHead.next = None\n",
    "        return result"
   ]
  }
 ],
 "metadata": {
  "language_info": {
   "name": "python"
  }
 },
 "nbformat": 4,
 "nbformat_minor": 2
}
