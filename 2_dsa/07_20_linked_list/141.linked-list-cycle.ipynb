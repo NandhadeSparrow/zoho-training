{
 "cells": [
  {
   "cell_type": "markdown",
   "metadata": {},
   "source": [
    "4. Linked List Cycle\n",
    "Problem Statement:\n",
    "Given head, the head of a linked list, determine if the linked list has a cycle in it.\n",
    "Input Description:\n",
    "- head: The head of a singly linked list.\n",
    "Output Description:\n",
    "- true if there is a cycle in the linked list, otherwise false.\n",
    "Constraints:\n",
    "- The number of nodes in the list is sz.\n",
    "- 0 <= sz <= 10^4\n",
    "- -10^5 <= Node.val <= 10^5\n",
    "Example 1:\n",
    "Input: head = [3,2,0,-4], pos = 1\n",
    "Output: true\n",
    "Explanation: There is a cycle in the linked list, where the tail connects to the 1st node\n",
    "(0-indexed).\n",
    "Example 2:\n",
    "Input: head = [1,2], pos = 0\n",
    "Output: true\n",
    "Explanation: There is a cycle in the linked list, where the tail connects to the 0th node.\n",
    "Example 3:\n",
    "Input: head = [1], pos = -1\n",
    "Output: false\n",
    "Explanation: There is no cycle in the linked list"
   ]
  },
  {
   "cell_type": "code",
   "execution_count": null,
   "metadata": {},
   "outputs": [],
   "source": [
    "class Solution:\n",
    "    def hasCycle(self, head: Optional[ListNode]) -> bool:\n",
    "    \n",
    "        fast = head\n",
    "        slow = head\n",
    "        \n",
    "        while fast and fast.next:\n",
    "            fast = fast.next.next\n",
    "            slow = slow.next\n",
    "            \n",
    "            if fast == slow:\n",
    "                return True\n",
    "    \n",
    "        return False"
   ]
  }
 ],
 "metadata": {
  "language_info": {
   "name": "python"
  }
 },
 "nbformat": 4,
 "nbformat_minor": 2
}
