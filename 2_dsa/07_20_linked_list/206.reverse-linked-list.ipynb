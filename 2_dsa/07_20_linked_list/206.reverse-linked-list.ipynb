{
 "cells": [
  {
   "cell_type": "markdown",
   "metadata": {},
   "source": [
    "2. Reverse Linked List\n",
    "Problem Statement:\n",
    "Reverse a singly linked list.\n",
    "Input Description:\n",
    "- head: The head of a singly linked list.\n",
    "Output Description:\n",
    "- The head of the reversed linked list.\n",
    "Constraints:\n",
    "- The number of nodes in the list is sz.\n",
    "- 1 <= sz <= 5000\n",
    "- -5000 <= Node.val <= 5000\n",
    "Example 1:\n",
    "Input: head = [1,2,3,4,5]\n",
    "Output: [5,4,3,2,1]\n",
    "Example 2:\n",
    "Input: head = [1,2]\n",
    "Output: [2,1]\n",
    "Example 3:\n",
    "Input: head = []\n",
    "Output: []"
   ]
  },
  {
   "cell_type": "code",
   "execution_count": null,
   "metadata": {},
   "outputs": [],
   "source": [
    "class Solution:\n",
    "    def reverseList(self, head: Optional[ListNode]) -> Optional[ListNode]:\n",
    "        node = None\n",
    "\n",
    "        while head:\n",
    "            temp = head.next\n",
    "            head.next = node\n",
    "            node = head\n",
    "            head = temp\n",
    "        \n",
    "        return node"
   ]
  }
 ],
 "metadata": {
  "language_info": {
   "name": "python"
  }
 },
 "nbformat": 4,
 "nbformat_minor": 2
}
