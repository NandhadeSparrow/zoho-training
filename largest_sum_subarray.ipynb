{
 "cells": [
  {
   "cell_type": "markdown",
   "metadata": {},
   "source": [
    "Question 4\n",
    "Problem Description:\n",
    "Given an integer array `nums`, find the subarray with the largest sum, and return its sum.\n",
    "Input Description:\n",
    "An integer array `nums`.\n",
    "Output Description:\n",
    "The sum of the subarray with the largest sum.\n",
    "Examples:\n",
    "**Example 1:**\n",
    "- Input: `nums = [-2, 1, -3, 4, -1, 2, 1, -5, 4]`\n",
    "- Output: `6`\n",
    "- Explanation: The subarray `[4, -1, 2, 1]` has the largest sum `6`.\n",
    "**Example 2:**\n",
    "- Input: `nums = [1]`\n",
    "- Output: `1`\n",
    "- Explanation: The subarray `[1]` has the largest sum `1`.\n",
    "**Example 3:**\n",
    "- Input: `nums = [5, 4, -1, 7, 8]`\n",
    "- Output: `23`\n",
    "- Explanation: The subarray `[5, 4, -1, 7, 8]` has the largest sum `23`.\n",
    "Constraints:\n",
    "1 <= nums.length <= 10^5\n",
    "-10^4 <= nums[i] <= 10^4"
   ]
  },
  {
   "cell_type": "code",
   "execution_count": 3,
   "metadata": {},
   "outputs": [
    {
     "name": "stdout",
     "output_type": "stream",
     "text": [
      "0 1\n",
      "0 2\n",
      "0 3\n",
      "0 4\n",
      "0 5\n",
      "1 2\n",
      "1 3\n",
      "1 4\n",
      "1 5\n",
      "2 3\n",
      "2 4\n",
      "2 5\n",
      "3 4\n",
      "3 5\n",
      "4 5\n"
     ]
    }
   ],
   "source": [
    "class Solution:\n",
    "    def maxSubArray(self, nums: List[int]) -> int:\n",
    "        m = nums[0]\n",
    "        c = nums[0]\n",
    "\n",
    "        for n in nums[1:]:\n",
    "            c = max(n, c + n)\n",
    "            m = max(m, c)\n",
    "\n",
    "        return m"
   ]
  }
 ],
 "metadata": {
  "kernelspec": {
   "display_name": "Python 3",
   "language": "python",
   "name": "python3"
  },
  "language_info": {
   "codemirror_mode": {
    "name": "ipython",
    "version": 3
   },
   "file_extension": ".py",
   "mimetype": "text/x-python",
   "name": "python",
   "nbconvert_exporter": "python",
   "pygments_lexer": "ipython3",
   "version": "3.12.0"
  }
 },
 "nbformat": 4,
 "nbformat_minor": 2
}
