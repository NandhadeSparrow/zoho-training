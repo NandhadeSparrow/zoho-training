{
 "cells": [
  {
   "cell_type": "markdown",
   "metadata": {},
   "source": [
    "2. Employee Record Management System\n",
    "Objective: Build an employee record management application.\n",
    "Requirements:\n",
    "- Create a system to manage employee records.\n",
    "- Allow adding, updating, and deleting employee records.\n",
    "- Implement search functionality based on different criteria (name, department, etc.).\n",
    "- Display reporting hierarchy of employees.\n",
    "- Handle edge cases such as circular references in the reporting structure."
   ]
  },
  {
   "cell_type": "code",
   "execution_count": null,
   "metadata": {},
   "outputs": [],
   "source": [
    "employees = []"
   ]
  },
  {
   "cell_type": "code",
   "execution_count": null,
   "metadata": {},
   "outputs": [],
   "source": [
    "class Employee:\n",
    "    def __init__(self, name, dept, level):\n",
    "        self.name = name \n",
    "        self.dept = dept \n",
    "        self.level = level"
   ]
  },
  {
   "cell_type": "code",
   "execution_count": null,
   "metadata": {},
   "outputs": [],
   "source": [
    "while True:\n",
    "    print('esc to stop app')\n",
    "    emps = sorted(employees, key=lambda x:x.level)\n",
    "    print('emp num, emp name, emp department, emp level')\n",
    "    for e in employees:\n",
    "        emp = employees[e]\n",
    "        print(e, ':', emp.name, emp.dept, emp.level)\n",
    "    print('select employee with num:\\n')\n",
    "    selected = int(input())\n",
    "    \n",
    "    emp = emps[selected]\n",
    "    \n",
    "    print('select action:\\n 0: edit\\n 1: delete')\n",
    "    act = int(input())\n",
    "    if act == 0:\n",
    "\n",
    "    if act == 1:\n",
    "        "
   ]
  }
 ],
 "metadata": {
  "language_info": {
   "name": "python"
  }
 },
 "nbformat": 4,
 "nbformat_minor": 2
}
