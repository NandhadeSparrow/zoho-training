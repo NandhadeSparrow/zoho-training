{
 "cells": [
  {
   "cell_type": "markdown",
   "metadata": {},
   "source": [
    "5. Online Examination System\n",
    "Objective: Create an online examination system.\n",
    "Requirements:\n",
    "- Admin can create and manage exams.\n",
    "- Students can register, log in, and take exams.\n",
    "- Support multiple-choice and descriptive questions.\n",
    "- Automatically grade multiple-choice questions and allow manual grading for descriptive answers.\n",
    "- Provide a summary of scores and results."
   ]
  },
  {
   "cell_type": "code",
   "execution_count": null,
   "metadata": {},
   "outputs": [],
   "source": []
  }
 ],
 "metadata": {
  "language_info": {
   "name": "python"
  }
 },
 "nbformat": 4,
 "nbformat_minor": 2
}
