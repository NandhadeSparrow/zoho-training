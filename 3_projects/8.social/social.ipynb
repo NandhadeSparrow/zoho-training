{
 "cells": [
  {
   "cell_type": "markdown",
   "metadata": {},
   "source": [
    "8. Social Networking Site\n",
    "Objective: Develop a social networking site.\n",
    "Requirements:\n",
    "- Users can register, create profiles, add friends.\n",
    "- Implement functionality for posting status updates, liking, and commenting.\n",
    "- Provide a news feed showing updates from friends.\n",
    "- Implement private messaging between users.\n",
    "- Allow users to create and join groups."
   ]
  },
  {
   "cell_type": "code",
   "execution_count": null,
   "metadata": {},
   "outputs": [],
   "source": []
  }
 ],
 "metadata": {
  "language_info": {
   "name": "python"
  }
 },
 "nbformat": 4,
 "nbformat_minor": 2
}
