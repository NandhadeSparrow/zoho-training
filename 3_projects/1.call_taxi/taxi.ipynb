{
 "cells": [
  {
   "cell_type": "markdown",
   "metadata": {},
   "source": [
    "1. Call Taxi Booking Application\n",
    "Objective: Design a call taxi booking application.\n",
    "Requirements:\n",
    "- There are n taxis, assume 4 for simplicity.\n",
    "- Six points (A, B, C, D, E, F) in a straight line, 15 kms apart.\n",
    "- All taxis start at point A.\n",
    "- It takes 60 minutes to travel from one point to the next.\n",
    "- When a customer books a taxi, allocate a free taxi at that point. If none are available, allocate a\n",
    "taxi from the nearest point.\n",
    "- If two taxis are free at the same point, allocate the one with lower earnings.\n",
    "- Taxis charge Rs.100 for the first 5 kms and Rs.10 for each subsequent km.\n",
    "- Taxis only charge from the pickup point to the drop point.\n",
    "- If no taxi is free at the time, the booking is rejected."
   ]
  },
  {
   "cell_type": "markdown",
   "metadata": {},
   "source": []
  },
  {
   "cell_type": "code",
   "execution_count": null,
   "metadata": {},
   "outputs": [],
   "source": []
  }
 ],
 "metadata": {
  "kernelspec": {
   "display_name": "Python 3",
   "language": "python",
   "name": "python3"
  },
  "language_info": {
   "name": "python",
   "version": "3.12.0"
  }
 },
 "nbformat": 4,
 "nbformat_minor": 2
}
