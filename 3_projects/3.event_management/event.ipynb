{
 "cells": [
  {
   "cell_type": "markdown",
   "metadata": {},
   "source": [
    "3. Event Management System\n",
    "Objective: Develop an event management system.\n",
    "\n",
    "Zoho Interview Project-Based Questions\n",
    "\n",
    "Requirements:\n",
    "- Admin can create, update, and delete events.\n",
    "- Users can register for events, view event details, and cancel registrations.\n",
    "- Implement notifications for event reminders.\n",
    "- Manage different event types and track attendee lists."
   ]
  },
  {
   "cell_type": "code",
   "execution_count": null,
   "metadata": {},
   "outputs": [],
   "source": []
  }
 ],
 "metadata": {
  "language_info": {
   "name": "python"
  }
 },
 "nbformat": 4,
 "nbformat_minor": 2
}
