{
 "cells": [
  {
   "cell_type": "markdown",
   "metadata": {},
   "source": [
    "10. Task Management Application\n",
    "Objective: Design a task management application.\n",
    "Requirements:\n",
    "- Users can register, create, update, and delete tasks.\n",
    "- Each task should have a title, description, due date, priority level, and status.\n",
    "- Tasks can be organized into projects.\n",
    "- Users can assign tasks to others and receive notifications.\n",
    "- Provide a dashboard for an overview of tasks and projects."
   ]
  },
  {
   "cell_type": "code",
   "execution_count": 40,
   "metadata": {},
   "outputs": [],
   "source": [
    "import datetime"
   ]
  },
  {
   "cell_type": "code",
   "execution_count": 41,
   "metadata": {},
   "outputs": [],
   "source": [
    "tasks = []\n",
    "projects = []\n",
    "users = []"
   ]
  },
  {
   "cell_type": "code",
   "execution_count": 42,
   "metadata": {},
   "outputs": [],
   "source": [
    "class Task:\n",
    "    def __init__(self, title) -> None:\n",
    "        self.title = title\n",
    "        self.done = False\n",
    "\n",
    "    def dict(self):\n",
    "        return {\n",
    "            'title': self.id,\n",
    "            'done': self.name,\n",
    "        }\n",
    "\n",
    "    def do(self):\n",
    "        self.done_date = datetime.datetime.now()\n",
    "        self.done = True"
   ]
  },
  {
   "cell_type": "code",
   "execution_count": 43,
   "metadata": {},
   "outputs": [],
   "source": [
    "def add_task():\n",
    "    print('select project')\n",
    "    for i in range(len(projects)):\n",
    "        print(i, ':', projects[i]['name'])\n",
    "    selected = int(input())\n",
    "    title = input('task title:')\n",
    "    task = Task(title)\n",
    "    projects[selected].add_task(task)"
   ]
  },
  {
   "cell_type": "code",
   "execution_count": 44,
   "metadata": {},
   "outputs": [],
   "source": [
    "def manage_project():\n",
    "    print('select project:')\n",
    "    for i in len(projects):\n",
    "        print(i, projects[i]['name'])\n",
    "    selected = int(input())\n",
    "    print('select action:')\n",
    "    print('0: edit name')\n",
    "    print('1: delete')\n",
    "    print('2: mark task done')\n",
    "\n",
    "    action = int(input())\n",
    "    if action == 0:\n",
    "        name = ('new project name:')\n",
    "        projects[i].name = name\n",
    "    if action == 1:\n",
    "        projects.pop(selected)\n",
    "    if action == 2:\n",
    "        print('select task to mark done')\n",
    "        tasks = projects[i]['tasks']\n",
    "        for t in len(tasks):\n",
    "            print(t, tasks[t]['title'])\n",
    "        t_selected = int(input())\n",
    "        tasks[t_selected].do()"
   ]
  },
  {
   "cell_type": "code",
   "execution_count": 45,
   "metadata": {},
   "outputs": [],
   "source": [
    "def manage_task():\n",
    "    print('select project:')\n",
    "    for i in len(projects):\n",
    "        print(i, projects[i]['name'])\n",
    "    selected = int(input())\n",
    "    print('select action:')\n",
    "    print('0: edit')\n",
    "    print('1: delete')\n",
    "    action = int(input())\n",
    "    if action == 0:\n",
    "        name = ('new project name:')\n",
    "        projects[i].name = name\n",
    "    if action == 1:\n",
    "        projects.pop(selected)"
   ]
  },
  {
   "cell_type": "code",
   "execution_count": 46,
   "metadata": {},
   "outputs": [],
   "source": [
    "class Project:\n",
    "    def __init__(self, name) -> None:\n",
    "        self.name = name\n",
    "        self.tasks = []\n",
    "    \n",
    "    def dict(self):\n",
    "        return {\n",
    "            'name': self.id,\n",
    "        }\n",
    "    \n",
    "    def add_task(self, task):\n",
    "        self.tasks.append(task)"
   ]
  },
  {
   "cell_type": "code",
   "execution_count": 47,
   "metadata": {},
   "outputs": [],
   "source": [
    "def add_project():\n",
    "    name = input('project name:')\n",
    "    # desc = input('project description:')\n",
    "    project = Project(name)\n",
    "    projects.append(project)"
   ]
  },
  {
   "cell_type": "code",
   "execution_count": 48,
   "metadata": {},
   "outputs": [],
   "source": [
    "class User:\n",
    "    def __init__(self, name):\n",
    "        self.name = name\n",
    "\n",
    "    def notify_task(self, task):\n",
    "        print(f'''Notificatoin for {self.name}: New task assigned.\\n\n",
    "            Task name: {task.title}\\n\n",
    "        ''')\n",
    "\n",
    "    def dict(self):\n",
    "        return {\n",
    "            'id': self.id,\n",
    "            'name': self.name\n",
    "        }"
   ]
  },
  {
   "cell_type": "code",
   "execution_count": 49,
   "metadata": {},
   "outputs": [],
   "source": [
    "def add_user():\n",
    "    name = input()\n",
    "    user = User(name)\n",
    "    users.append(user)"
   ]
  },
  {
   "cell_type": "code",
   "execution_count": 50,
   "metadata": {},
   "outputs": [],
   "source": [
    "def dashboard():\n",
    "    print('dashboard')\n",
    "    for p in projects:\n",
    "        print('Project:', p.name)\n",
    "        print('Tasks:')\n",
    "        tasks = p.tasks\n",
    "        tasks.sort(key=lambda x: x.done)\n",
    "        for t in p.tasks:\n",
    "            print(t.title)"
   ]
  },
  {
   "cell_type": "code",
   "execution_count": 51,
   "metadata": {},
   "outputs": [],
   "source": [
    "app = {\n",
    "    -1: {\n",
    "        'name': 'stop app',\n",
    "    },\n",
    "    0: {\n",
    "        'name': 'dashboard',\n",
    "        'fn': dashboard\n",
    "    },\n",
    "    1: {\n",
    "        'name': 'add project',\n",
    "        'fn': add_project\n",
    "    },\n",
    "    2: {\n",
    "        'name': 'add task',\n",
    "        'fn': add_task\n",
    "    },\n",
    "    3: {\n",
    "        'name': 'add user',\n",
    "        'fn': add_user\n",
    "    },\n",
    "    4: {\n",
    "        'name': 'manage projects',\n",
    "        'fn': manage_project\n",
    "    },\n",
    "}"
   ]
  },
  {
   "cell_type": "code",
   "execution_count": 52,
   "metadata": {},
   "outputs": [
    {
     "name": "stdout",
     "output_type": "stream",
     "text": [
      "-------------------------------------------------\n",
      "dashboard\n",
      "choose number of action\n",
      "-1 : stop app\n",
      "0 : dashboard\n",
      "1 : add project\n",
      "2 : add task\n",
      "3 : add user\n",
      "4 : manage projects\n",
      "reloading actions------------------------------\n",
      "-------------------------------------------------\n",
      "dashboard\n",
      "Project: house\n",
      "Tasks:\n",
      "choose number of action\n",
      "-1 : stop app\n",
      "0 : dashboard\n",
      "1 : add project\n",
      "2 : add task\n",
      "3 : add user\n",
      "4 : manage projects\n",
      "select project\n"
     ]
    },
    {
     "ename": "TypeError",
     "evalue": "'Project' object is not subscriptable",
     "output_type": "error",
     "traceback": [
      "\u001b[1;31m---------------------------------------------------------------------------\u001b[0m",
      "\u001b[1;31mTypeError\u001b[0m                                 Traceback (most recent call last)",
      "Cell \u001b[1;32mIn[52], line 14\u001b[0m\n\u001b[0;32m     12\u001b[0m     \u001b[38;5;28;01mcontinue\u001b[39;00m\n\u001b[0;32m     13\u001b[0m fn \u001b[38;5;241m=\u001b[39m \u001b[38;5;28mint\u001b[39m(fn)\n\u001b[1;32m---> 14\u001b[0m \u001b[43mapp\u001b[49m\u001b[43m[\u001b[49m\u001b[43mfn\u001b[49m\u001b[43m]\u001b[49m\u001b[43m[\u001b[49m\u001b[38;5;124;43m'\u001b[39;49m\u001b[38;5;124;43mfn\u001b[39;49m\u001b[38;5;124;43m'\u001b[39;49m\u001b[43m]\u001b[49m\u001b[43m(\u001b[49m\u001b[43m)\u001b[49m\n\u001b[0;32m     15\u001b[0m \u001b[38;5;28mprint\u001b[39m(\u001b[38;5;124m'\u001b[39m\u001b[38;5;124mreloading actions------------------------------\u001b[39m\u001b[38;5;124m'\u001b[39m)\n",
      "Cell \u001b[1;32mIn[43], line 4\u001b[0m, in \u001b[0;36madd_task\u001b[1;34m()\u001b[0m\n\u001b[0;32m      2\u001b[0m \u001b[38;5;28mprint\u001b[39m(\u001b[38;5;124m'\u001b[39m\u001b[38;5;124mselect project\u001b[39m\u001b[38;5;124m'\u001b[39m)\n\u001b[0;32m      3\u001b[0m \u001b[38;5;28;01mfor\u001b[39;00m i \u001b[38;5;129;01min\u001b[39;00m \u001b[38;5;28mrange\u001b[39m(\u001b[38;5;28mlen\u001b[39m(projects)):\n\u001b[1;32m----> 4\u001b[0m     \u001b[38;5;28mprint\u001b[39m(i, \u001b[38;5;124m'\u001b[39m\u001b[38;5;124m:\u001b[39m\u001b[38;5;124m'\u001b[39m, \u001b[43mprojects\u001b[49m\u001b[43m[\u001b[49m\u001b[43mi\u001b[49m\u001b[43m]\u001b[49m\u001b[43m[\u001b[49m\u001b[38;5;124;43m'\u001b[39;49m\u001b[38;5;124;43mname\u001b[39;49m\u001b[38;5;124;43m'\u001b[39;49m\u001b[43m]\u001b[49m)\n\u001b[0;32m      5\u001b[0m selected \u001b[38;5;241m=\u001b[39m \u001b[38;5;28mint\u001b[39m(\u001b[38;5;28minput\u001b[39m())\n\u001b[0;32m      6\u001b[0m title \u001b[38;5;241m=\u001b[39m \u001b[38;5;28minput\u001b[39m(\u001b[38;5;124m'\u001b[39m\u001b[38;5;124mtask title:\u001b[39m\u001b[38;5;124m'\u001b[39m)\n",
      "\u001b[1;31mTypeError\u001b[0m: 'Project' object is not subscriptable"
     ]
    }
   ],
   "source": [
    "while True:\n",
    "    print('-------------------------------------------------')\n",
    "    dashboard()\n",
    "    print('choose number of action')\n",
    "    for i in app:\n",
    "        print(i, ':', app[i]['name'])\n",
    "    fn = input()\n",
    "    if fn == '-1':\n",
    "        break\n",
    "    if fn == '' or int(fn) not in app: \n",
    "        print('no such task')\n",
    "        continue\n",
    "    fn = int(fn)\n",
    "    app[fn]['fn']()\n",
    "    print('reloading actions------------------------------')"
   ]
  }
 ],
 "metadata": {
  "kernelspec": {
   "display_name": "Python 3",
   "language": "python",
   "name": "python3"
  },
  "language_info": {
   "codemirror_mode": {
    "name": "ipython",
    "version": 3
   },
   "file_extension": ".py",
   "mimetype": "text/x-python",
   "name": "python",
   "nbconvert_exporter": "python",
   "pygments_lexer": "ipython3",
   "version": "3.12.0"
  }
 },
 "nbformat": 4,
 "nbformat_minor": 2
}
