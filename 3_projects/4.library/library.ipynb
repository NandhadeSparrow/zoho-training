{
 "cells": [
  {
   "cell_type": "markdown",
   "metadata": {},
   "source": [
    "4. Library Management System\n",
    "Objective: Design a library management system.\n",
    "Requirements:\n",
    "- Admin can manage book inventory (add, update, remove books).\n",
    "- Members can register, borrow, and return books.\n",
    "- Track book availability and member borrowing history.\n",
    "- Implement search functionality by title, author, or genre.\n",
    "- Limit borrowing to a maximum of 5 books for up to 30 days."
   ]
  },
  {
   "cell_type": "code",
   "execution_count": null,
   "metadata": {},
   "outputs": [],
   "source": []
  }
 ],
 "metadata": {
  "language_info": {
   "name": "python"
  }
 },
 "nbformat": 4,
 "nbformat_minor": 2
}
