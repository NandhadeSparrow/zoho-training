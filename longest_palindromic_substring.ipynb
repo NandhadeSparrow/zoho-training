{
 "cells": [
  {
   "cell_type": "markdown",
   "metadata": {},
   "source": [
    "Question 2\n",
    "Problem Description:\n",
    "Given a string `s`, return the longest palindromic substring in `s`.\n",
    "Input Description:\n",
    "A string `s`.\n",
    "Output Description:\n",
    "The longest palindromic substring in `s`.\n",
    "Examples:\n",
    "**Example 1:**\n",
    "- Input: `s = \"babad\"`\n",
    "- Output: `\"bab\"`\n",
    "- Explanation: `\"aba\"` is also a valid answer.\n",
    "**Example 2:**\n",
    "- Input: `s = \"cbbd\"`\n",
    "- Output: `\"bb\"`\n",
    "Constraints:\n",
    "1 <= s.length <= 1000\n",
    "s consists of only digits and English letters"
   ]
  },
  {
   "cell_type": "code",
   "execution_count": null,
   "metadata": {},
   "outputs": [],
   "source": [
    "class Solution:\n",
    "    def longestPalindrome(self, s: str) -> str:\n",
    "        m = ''\n",
    "        l = len(s)\n",
    "        for i in range(l):\n",
    "            for j in range(i+1, l+1):\n",
    "                part = s[i:j]\n",
    "                if part == part[::-1] and len(m) < len(part):\n",
    "                    m = part\n",
    "        return m"
   ]
  }
 ],
 "metadata": {
  "language_info": {
   "name": "python"
  }
 },
 "nbformat": 4,
 "nbformat_minor": 2
}
