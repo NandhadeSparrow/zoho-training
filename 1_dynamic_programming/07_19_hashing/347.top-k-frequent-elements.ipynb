{
 "cells": [
  {
   "cell_type": "markdown",
   "metadata": {},
   "source": [
    "Question 4: Top K Frequent Elements\n",
    "Given an integer array nums and an integer k, return the k most frequent elements. You may return the\n",
    "answer in any order.\n",
    "Example:\n",
    "Input: nums = [1,1,1,2,2,3], k = 2\n",
    "Output: [1,2]"
   ]
  },
  {
   "cell_type": "code",
   "execution_count": null,
   "metadata": {},
   "outputs": [],
   "source": [
    "class Solution:\n",
    "    def topKFrequent(self, nums: List[int], k: int) -> List[int]:\n",
    "        c = {}\n",
    "        for i in set(nums):\n",
    "            c[i] = nums.count(i)\n",
    "        c = sorted(c.items(), key = lambda x: -x[1])\n",
    "        return [x[0] for x in c[:k]]"
   ]
  }
 ],
 "metadata": {
  "language_info": {
   "name": "python"
  }
 },
 "nbformat": 4,
 "nbformat_minor": 2
}
