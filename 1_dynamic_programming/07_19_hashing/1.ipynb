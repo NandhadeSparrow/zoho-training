{
 "cells": [
  {
   "cell_type": "markdown",
   "metadata": {},
   "source": [
    "Question 1: Two Sum\n",
    "Given an array of integers nums and an integer target, return indices of the two numbers such that they\n",
    "add up to target.\n",
    "You may assume that each input would have exactly one solution, and you may not use the same\n",
    "element twice.\n",
    "You can return the answer in any order.\n",
    "Example:\n",
    "Input: nums = [2,7,11,15], target = 9\n",
    "Output: [0,1]\n",
    "Explanation: Because nums[0] + nums[1] == 9, we return [0, 1]"
   ]
  },
  {
   "cell_type": "code",
   "execution_count": null,
   "metadata": {},
   "outputs": [],
   "source": [
    "class Solution:\n",
    "    def twoSum(self, nums: List[int], target: int) -> List[int]:\n",
    "        for i in range(len(nums)-1):\n",
    "            if target - nums[i] in nums[i+1:]:\n",
    "                return [i, nums[i+1:].index(target-nums[i])+i+1]"
   ]
  }
 ],
 "metadata": {
  "language_info": {
   "name": "python"
  }
 },
 "nbformat": 4,
 "nbformat_minor": 2
}
