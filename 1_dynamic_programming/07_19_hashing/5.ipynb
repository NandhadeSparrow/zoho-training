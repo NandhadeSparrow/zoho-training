{
 "cells": [
  {
   "cell_type": "markdown",
   "metadata": {},
   "source": [
    "Question 5: Valid Anagram\n",
    "Given two strings s and t, return true if t is an anagram of s, and false otherwise.\n",
    "Example:\n",
    "Input: s = \"anagram\", t = \"nagaram\"\n",
    "Output: true\n",
    "Input: s = \"rat\", t = \"car\"\n",
    "Output: false"
   ]
  },
  {
   "cell_type": "code",
   "execution_count": null,
   "metadata": {},
   "outputs": [],
   "source": [
    "class Solution:\n",
    "    def isAnagram(self, s: str, t: str) -> bool:\n",
    "        f = True\n",
    "        for i in set(s+t):\n",
    "            if s.count(i) != t.count(i):\n",
    "                f = False\n",
    "                break\n",
    "        return f"
   ]
  }
 ],
 "metadata": {
  "language_info": {
   "name": "python"
  }
 },
 "nbformat": 4,
 "nbformat_minor": 2
}
