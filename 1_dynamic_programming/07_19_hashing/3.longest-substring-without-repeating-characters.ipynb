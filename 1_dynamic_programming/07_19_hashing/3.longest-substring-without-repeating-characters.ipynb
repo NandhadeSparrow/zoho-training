{
 "cells": [
  {
   "cell_type": "markdown",
   "metadata": {},
   "source": [
    "Question 3: Longest Substring Without Repeating Characters\n",
    "Given a string s, find the length of the longest substring without repeating characters.\n",
    "Example:\n",
    "Input: s = \"abcabcbb\"\n",
    "Output: 3\n",
    "Explanation: The answer is \"abc\", with the length of 3"
   ]
  },
  {
   "cell_type": "code",
   "execution_count": null,
   "metadata": {},
   "outputs": [],
   "source": [
    "class Solution:\n",
    "    def lengthOfLongestSubstring(self, s: str) -> int:\n",
    "        if s == '':\n",
    "            return 0\n",
    "        m = 1\n",
    "        curr = s[0]\n",
    "        i = 1\n",
    "        while i < len(s):\n",
    "            if s[i] in curr:\n",
    "                m = max(m, len(curr))\n",
    "                curr = curr[1:]\n",
    "\n",
    "            else:\n",
    "                curr += s[i]\n",
    "                i += 1\n",
    "                \n",
    "        m = max(m, len(curr))\n",
    "        return m"
   ]
  }
 ],
 "metadata": {
  "language_info": {
   "name": "python"
  }
 },
 "nbformat": 4,
 "nbformat_minor": 2
}
