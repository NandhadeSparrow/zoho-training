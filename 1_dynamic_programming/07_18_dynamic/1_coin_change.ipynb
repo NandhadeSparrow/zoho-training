{
 "cells": [
  {
   "cell_type": "markdown",
   "metadata": {},
   "source": [
    "Question 1\n",
    "Problem Description:\n",
    "You are given an integer array coins representing coins of different denominations and an integer\n",
    "amount representing a total amount of money.\n",
    "Return the fewest number of coins that you need to make up that amount. If that amount of money\n",
    "cannot be made up by any combination of the coins, return -1.\n",
    "You may assume that you have an infinite number of each kind of coin.\n",
    "Input Description:\n",
    "An integer array `coins` representing coins of different denominations.\n",
    "An integer `amount` representing a total amount of money.\n",
    "Output Description:\n",
    "The fewest number of coins needed to make up the amount. If the amount cannot be made up,\n",
    "return -1.\n",
    "Examples:\n",
    "**Example 1:**\n",
    "- Input: `coins = [1, 2, 5]`, `amount = 11`\n",
    "- Output: `3`\n",
    "- Explanation: `11 = 5 + 5 + 1`\n",
    "**Example 2:**\n",
    "- Input: `coins = [2]`, `amount = 3`\n",
    "- Output: `-1`\n",
    "**Example 3:**\n",
    "- Input: `coins = [1]`, `amount = 0`\n",
    "- Output: `0`\n",
    "Constraints:\n",
    "1 <= coins.length <= 12\n",
    "1 <= coins[i] <= 2^31 - 1\n",
    "0 <= amount <= 10^4\n"
   ]
  },
  {
   "cell_type": "code",
   "execution_count": null,
   "metadata": {},
   "outputs": [],
   "source": [
    "class Solution:\n",
    "    def coinChange(self, coins: List[int], amount: int) -> int:\n",
    "        min_coins = [amount + 1] * (amount + 1)\n",
    "        min_coins[0] = 0\n",
    "\n",
    "        for i in range(1, amount + 1):\n",
    "            for c in coins:\n",
    "                if i - c >= 0:\n",
    "                    min_coins[i] = min(min_coins[i], 1 + min_coins[i - c])\n",
    "                    print(i, c, min_coins)\n",
    "        \n",
    "        return min_coins[-1] if min_coins[-1] != amount + 1 else -1"
   ]
  }
 ],
 "metadata": {
  "language_info": {
   "name": "python"
  }
 },
 "nbformat": 4,
 "nbformat_minor": 2
}
