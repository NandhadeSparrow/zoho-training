{
 "cells": [
  {
   "cell_type": "markdown",
   "metadata": {},
   "source": [
    "Question 3\n",
    "Problem Description:\n",
    "For a string sequence, a string word is k-repeating if word concatenated k times is a substring of\n",
    "sequence. The word's maximum k-repeating value is the highest value k where word is k-repeating\n",
    "in sequence. If word is not a substring of sequence, word's maximum k-repeating value is 0.\n",
    "Given strings sequence and word, return the maximum k-repeating value of word in sequence.\n",
    "Input Description:\n",
    "Two strings `sequence` and `word`.\n",
    "Output Description:\n",
    "The maximum k-repeating value of `word` in `sequence`.\n",
    "Examples:\n",
    "**Example 1:**\n",
    "- Input: `sequence = \"ababc\"`, `word = \"ab\"`\n",
    "- Output: `2`\n",
    "- Explanation: `\"abab\"` is a substring in `\"ababc\"`.\n",
    "**Example 2:**\n",
    "- Input: `sequence = \"ababc\"`, `word = \"ba\"`\n",
    "- Output: `1`\n",
    "- Explanation: `\"ba\"` is a substring in `\"ababc\"`. `\"baba\"` is not a substring in `\"ababc\"`.\n",
    "**Example 3:**\n",
    "- Input: `sequence = \"ababc\"`, `word = \"ac\"`\n",
    "- Output: `0`\n",
    "- Explanation: `\"ac\"` is not a substring in `\"ababc\"`.\n",
    "Constraints:\n",
    "1 <= sequence.length <= 100\n",
    "1 <= word.length <= 100\n",
    "sequence and word contain only lowercase English letters."
   ]
  },
  {
   "cell_type": "code",
   "execution_count": 1,
   "metadata": {},
   "outputs": [
    {
     "data": {
      "text/plain": [
       "2"
      ]
     },
     "execution_count": 1,
     "metadata": {},
     "output_type": "execute_result"
    }
   ],
   "source": [
    "class Solution:\n",
    "    def maxRepeating(self, sequence: str, word: str) -> int:\n",
    "        for i in range(len(sequence)//len(word), 0, -1):\n",
    "            if word * i in sequence:\n",
    "                return i\n",
    "        return 0"
   ]
  }
 ],
 "metadata": {
  "kernelspec": {
   "display_name": "Python 3",
   "language": "python",
   "name": "python3"
  },
  "language_info": {
   "codemirror_mode": {
    "name": "ipython",
    "version": 3
   },
   "file_extension": ".py",
   "mimetype": "text/x-python",
   "name": "python",
   "nbconvert_exporter": "python",
   "pygments_lexer": "ipython3",
   "version": "3.12.0"
  }
 },
 "nbformat": 4,
 "nbformat_minor": 2
}
