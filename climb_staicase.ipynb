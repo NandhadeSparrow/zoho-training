{
 "cells": [
  {
   "cell_type": "markdown",
   "metadata": {},
   "source": [
    "Question 5\n",
    "Problem Description:\n",
    "You are climbing a staircase. It takes `n` steps to reach the top.\n",
    "Each time you can either climb 1 or 2 steps. In how many distinct ways can you climb to the top?\n",
    "Input Description:\n",
    "An integer `n`.\n",
    "Output Description:\n",
    "The number of distinct ways to climb to the top.\n",
    "Examples:\n",
    "**Example 1:**\n",
    "- Input: `n = 2`\n",
    "- Output: `2`\n",
    "- Explanation: There are two ways to climb to the top.\n",
    "1. 1 step + 1 step\n",
    "2. 2 steps\n",
    "**Example 2:**\n",
    "- Input: `n = 3`\n",
    "- Output: `3`\n",
    "- Explanation: There are three ways to climb to the top.\n",
    "1. 1 step + 1 step + 1 step\n",
    "2. 1 step + 2 steps\n",
    "3. 2 steps + 1 step\n",
    "Constraints:\n",
    "1 <= n <= 45"
   ]
  },
  {
   "cell_type": "code",
   "execution_count": null,
   "metadata": {},
   "outputs": [],
   "source": [
    "class Solution:\n",
    "    def climbStairs(self, n: int) -> int:\n",
    "        if n == 0 or n == 1:\n",
    "            return 1\n",
    "        return self.climbStairs(n-1) + self.climbStairs(n-2)"
   ]
  },
  {
   "cell_type": "markdown",
   "metadata": {},
   "source": [
    "^ time exceeded"
   ]
  },
  {
   "cell_type": "code",
   "execution_count": null,
   "metadata": {},
   "outputs": [],
   "source": [
    "class Solution:\n",
    "    def climbStairs(self, n: int) -> int:\n",
    "        if n == 0 or n == 1:\n",
    "            return 1\n",
    "        prev, curr = 1, 1\n",
    "        for i in range(2, n+1):\n",
    "            temp = curr\n",
    "            curr = prev + curr\n",
    "            prev = temp\n",
    "        return curr"
   ]
  }
 ],
 "metadata": {
  "language_info": {
   "name": "python"
  }
 },
 "nbformat": 4,
 "nbformat_minor": 2
}
